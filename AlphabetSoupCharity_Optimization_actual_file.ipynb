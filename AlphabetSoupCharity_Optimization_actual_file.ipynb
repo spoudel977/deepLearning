{
  "cells": [
    {
      "cell_type": "markdown",
      "metadata": {
        "id": "0XbmxRx68932"
      },
      "source": [
        "## Preprocessing"
      ]
    },
    {
      "cell_type": "code",
      "execution_count": 24,
      "metadata": {
        "colab": {
          "base_uri": "https://localhost:8080/",
          "height": 293
        },
        "id": "hJRhRwgZ8935",
        "outputId": "9aa7bca3-c721-4dd4-db33-c9eab04c4c5b"
      },
      "outputs": [
        {
          "output_type": "execute_result",
          "data": {
            "text/plain": [
              "        EIN                                      NAME APPLICATION_TYPE  \\\n",
              "0  10520599              BLUE KNIGHTS MOTORCYCLE CLUB              T10   \n",
              "1  10531628    AMERICAN CHESAPEAKE CLUB CHARITABLE TR               T3   \n",
              "2  10547893        ST CLOUD PROFESSIONAL FIREFIGHTERS               T5   \n",
              "3  10553066            SOUTHSIDE ATHLETIC ASSOCIATION               T3   \n",
              "4  10556103  GENETIC RESEARCH INSTITUTE OF THE DESERT               T3   \n",
              "\n",
              "        AFFILIATION CLASSIFICATION      USE_CASE  ORGANIZATION  STATUS  \\\n",
              "0       Independent          C1000    ProductDev   Association       1   \n",
              "1       Independent          C2000  Preservation  Co-operative       1   \n",
              "2  CompanySponsored          C3000    ProductDev   Association       1   \n",
              "3  CompanySponsored          C2000  Preservation         Trust       1   \n",
              "4       Independent          C1000     Heathcare         Trust       1   \n",
              "\n",
              "      INCOME_AMT SPECIAL_CONSIDERATIONS  ASK_AMT  IS_SUCCESSFUL  \n",
              "0              0                      N     5000              1  \n",
              "1         1-9999                      N   108590              1  \n",
              "2              0                      N     5000              0  \n",
              "3    10000-24999                      N     6692              1  \n",
              "4  100000-499999                      N   142590              1  "
            ],
            "text/html": [
              "\n",
              "  <div id=\"df-5cd53798-fe52-4c76-9a08-d945bf69e953\" class=\"colab-df-container\">\n",
              "    <div>\n",
              "<style scoped>\n",
              "    .dataframe tbody tr th:only-of-type {\n",
              "        vertical-align: middle;\n",
              "    }\n",
              "\n",
              "    .dataframe tbody tr th {\n",
              "        vertical-align: top;\n",
              "    }\n",
              "\n",
              "    .dataframe thead th {\n",
              "        text-align: right;\n",
              "    }\n",
              "</style>\n",
              "<table border=\"1\" class=\"dataframe\">\n",
              "  <thead>\n",
              "    <tr style=\"text-align: right;\">\n",
              "      <th></th>\n",
              "      <th>EIN</th>\n",
              "      <th>NAME</th>\n",
              "      <th>APPLICATION_TYPE</th>\n",
              "      <th>AFFILIATION</th>\n",
              "      <th>CLASSIFICATION</th>\n",
              "      <th>USE_CASE</th>\n",
              "      <th>ORGANIZATION</th>\n",
              "      <th>STATUS</th>\n",
              "      <th>INCOME_AMT</th>\n",
              "      <th>SPECIAL_CONSIDERATIONS</th>\n",
              "      <th>ASK_AMT</th>\n",
              "      <th>IS_SUCCESSFUL</th>\n",
              "    </tr>\n",
              "  </thead>\n",
              "  <tbody>\n",
              "    <tr>\n",
              "      <th>0</th>\n",
              "      <td>10520599</td>\n",
              "      <td>BLUE KNIGHTS MOTORCYCLE CLUB</td>\n",
              "      <td>T10</td>\n",
              "      <td>Independent</td>\n",
              "      <td>C1000</td>\n",
              "      <td>ProductDev</td>\n",
              "      <td>Association</td>\n",
              "      <td>1</td>\n",
              "      <td>0</td>\n",
              "      <td>N</td>\n",
              "      <td>5000</td>\n",
              "      <td>1</td>\n",
              "    </tr>\n",
              "    <tr>\n",
              "      <th>1</th>\n",
              "      <td>10531628</td>\n",
              "      <td>AMERICAN CHESAPEAKE CLUB CHARITABLE TR</td>\n",
              "      <td>T3</td>\n",
              "      <td>Independent</td>\n",
              "      <td>C2000</td>\n",
              "      <td>Preservation</td>\n",
              "      <td>Co-operative</td>\n",
              "      <td>1</td>\n",
              "      <td>1-9999</td>\n",
              "      <td>N</td>\n",
              "      <td>108590</td>\n",
              "      <td>1</td>\n",
              "    </tr>\n",
              "    <tr>\n",
              "      <th>2</th>\n",
              "      <td>10547893</td>\n",
              "      <td>ST CLOUD PROFESSIONAL FIREFIGHTERS</td>\n",
              "      <td>T5</td>\n",
              "      <td>CompanySponsored</td>\n",
              "      <td>C3000</td>\n",
              "      <td>ProductDev</td>\n",
              "      <td>Association</td>\n",
              "      <td>1</td>\n",
              "      <td>0</td>\n",
              "      <td>N</td>\n",
              "      <td>5000</td>\n",
              "      <td>0</td>\n",
              "    </tr>\n",
              "    <tr>\n",
              "      <th>3</th>\n",
              "      <td>10553066</td>\n",
              "      <td>SOUTHSIDE ATHLETIC ASSOCIATION</td>\n",
              "      <td>T3</td>\n",
              "      <td>CompanySponsored</td>\n",
              "      <td>C2000</td>\n",
              "      <td>Preservation</td>\n",
              "      <td>Trust</td>\n",
              "      <td>1</td>\n",
              "      <td>10000-24999</td>\n",
              "      <td>N</td>\n",
              "      <td>6692</td>\n",
              "      <td>1</td>\n",
              "    </tr>\n",
              "    <tr>\n",
              "      <th>4</th>\n",
              "      <td>10556103</td>\n",
              "      <td>GENETIC RESEARCH INSTITUTE OF THE DESERT</td>\n",
              "      <td>T3</td>\n",
              "      <td>Independent</td>\n",
              "      <td>C1000</td>\n",
              "      <td>Heathcare</td>\n",
              "      <td>Trust</td>\n",
              "      <td>1</td>\n",
              "      <td>100000-499999</td>\n",
              "      <td>N</td>\n",
              "      <td>142590</td>\n",
              "      <td>1</td>\n",
              "    </tr>\n",
              "  </tbody>\n",
              "</table>\n",
              "</div>\n",
              "    <div class=\"colab-df-buttons\">\n",
              "\n",
              "  <div class=\"colab-df-container\">\n",
              "    <button class=\"colab-df-convert\" onclick=\"convertToInteractive('df-5cd53798-fe52-4c76-9a08-d945bf69e953')\"\n",
              "            title=\"Convert this dataframe to an interactive table.\"\n",
              "            style=\"display:none;\">\n",
              "\n",
              "  <svg xmlns=\"http://www.w3.org/2000/svg\" height=\"24px\" viewBox=\"0 -960 960 960\">\n",
              "    <path d=\"M120-120v-720h720v720H120Zm60-500h600v-160H180v160Zm220 220h160v-160H400v160Zm0 220h160v-160H400v160ZM180-400h160v-160H180v160Zm440 0h160v-160H620v160ZM180-180h160v-160H180v160Zm440 0h160v-160H620v160Z\"/>\n",
              "  </svg>\n",
              "    </button>\n",
              "\n",
              "  <style>\n",
              "    .colab-df-container {\n",
              "      display:flex;\n",
              "      gap: 12px;\n",
              "    }\n",
              "\n",
              "    .colab-df-convert {\n",
              "      background-color: #E8F0FE;\n",
              "      border: none;\n",
              "      border-radius: 50%;\n",
              "      cursor: pointer;\n",
              "      display: none;\n",
              "      fill: #1967D2;\n",
              "      height: 32px;\n",
              "      padding: 0 0 0 0;\n",
              "      width: 32px;\n",
              "    }\n",
              "\n",
              "    .colab-df-convert:hover {\n",
              "      background-color: #E2EBFA;\n",
              "      box-shadow: 0px 1px 2px rgba(60, 64, 67, 0.3), 0px 1px 3px 1px rgba(60, 64, 67, 0.15);\n",
              "      fill: #174EA6;\n",
              "    }\n",
              "\n",
              "    .colab-df-buttons div {\n",
              "      margin-bottom: 4px;\n",
              "    }\n",
              "\n",
              "    [theme=dark] .colab-df-convert {\n",
              "      background-color: #3B4455;\n",
              "      fill: #D2E3FC;\n",
              "    }\n",
              "\n",
              "    [theme=dark] .colab-df-convert:hover {\n",
              "      background-color: #434B5C;\n",
              "      box-shadow: 0px 1px 3px 1px rgba(0, 0, 0, 0.15);\n",
              "      filter: drop-shadow(0px 1px 2px rgba(0, 0, 0, 0.3));\n",
              "      fill: #FFFFFF;\n",
              "    }\n",
              "  </style>\n",
              "\n",
              "    <script>\n",
              "      const buttonEl =\n",
              "        document.querySelector('#df-5cd53798-fe52-4c76-9a08-d945bf69e953 button.colab-df-convert');\n",
              "      buttonEl.style.display =\n",
              "        google.colab.kernel.accessAllowed ? 'block' : 'none';\n",
              "\n",
              "      async function convertToInteractive(key) {\n",
              "        const element = document.querySelector('#df-5cd53798-fe52-4c76-9a08-d945bf69e953');\n",
              "        const dataTable =\n",
              "          await google.colab.kernel.invokeFunction('convertToInteractive',\n",
              "                                                    [key], {});\n",
              "        if (!dataTable) return;\n",
              "\n",
              "        const docLinkHtml = 'Like what you see? Visit the ' +\n",
              "          '<a target=\"_blank\" href=https://colab.research.google.com/notebooks/data_table.ipynb>data table notebook</a>'\n",
              "          + ' to learn more about interactive tables.';\n",
              "        element.innerHTML = '';\n",
              "        dataTable['output_type'] = 'display_data';\n",
              "        await google.colab.output.renderOutput(dataTable, element);\n",
              "        const docLink = document.createElement('div');\n",
              "        docLink.innerHTML = docLinkHtml;\n",
              "        element.appendChild(docLink);\n",
              "      }\n",
              "    </script>\n",
              "  </div>\n",
              "\n",
              "\n",
              "<div id=\"df-5620ee6a-972d-4f29-8fb1-4af95b0b6419\">\n",
              "  <button class=\"colab-df-quickchart\" onclick=\"quickchart('df-5620ee6a-972d-4f29-8fb1-4af95b0b6419')\"\n",
              "            title=\"Suggest charts\"\n",
              "            style=\"display:none;\">\n",
              "\n",
              "<svg xmlns=\"http://www.w3.org/2000/svg\" height=\"24px\"viewBox=\"0 0 24 24\"\n",
              "     width=\"24px\">\n",
              "    <g>\n",
              "        <path d=\"M19 3H5c-1.1 0-2 .9-2 2v14c0 1.1.9 2 2 2h14c1.1 0 2-.9 2-2V5c0-1.1-.9-2-2-2zM9 17H7v-7h2v7zm4 0h-2V7h2v10zm4 0h-2v-4h2v4z\"/>\n",
              "    </g>\n",
              "</svg>\n",
              "  </button>\n",
              "\n",
              "<style>\n",
              "  .colab-df-quickchart {\n",
              "      --bg-color: #E8F0FE;\n",
              "      --fill-color: #1967D2;\n",
              "      --hover-bg-color: #E2EBFA;\n",
              "      --hover-fill-color: #174EA6;\n",
              "      --disabled-fill-color: #AAA;\n",
              "      --disabled-bg-color: #DDD;\n",
              "  }\n",
              "\n",
              "  [theme=dark] .colab-df-quickchart {\n",
              "      --bg-color: #3B4455;\n",
              "      --fill-color: #D2E3FC;\n",
              "      --hover-bg-color: #434B5C;\n",
              "      --hover-fill-color: #FFFFFF;\n",
              "      --disabled-bg-color: #3B4455;\n",
              "      --disabled-fill-color: #666;\n",
              "  }\n",
              "\n",
              "  .colab-df-quickchart {\n",
              "    background-color: var(--bg-color);\n",
              "    border: none;\n",
              "    border-radius: 50%;\n",
              "    cursor: pointer;\n",
              "    display: none;\n",
              "    fill: var(--fill-color);\n",
              "    height: 32px;\n",
              "    padding: 0;\n",
              "    width: 32px;\n",
              "  }\n",
              "\n",
              "  .colab-df-quickchart:hover {\n",
              "    background-color: var(--hover-bg-color);\n",
              "    box-shadow: 0 1px 2px rgba(60, 64, 67, 0.3), 0 1px 3px 1px rgba(60, 64, 67, 0.15);\n",
              "    fill: var(--button-hover-fill-color);\n",
              "  }\n",
              "\n",
              "  .colab-df-quickchart-complete:disabled,\n",
              "  .colab-df-quickchart-complete:disabled:hover {\n",
              "    background-color: var(--disabled-bg-color);\n",
              "    fill: var(--disabled-fill-color);\n",
              "    box-shadow: none;\n",
              "  }\n",
              "\n",
              "  .colab-df-spinner {\n",
              "    border: 2px solid var(--fill-color);\n",
              "    border-color: transparent;\n",
              "    border-bottom-color: var(--fill-color);\n",
              "    animation:\n",
              "      spin 1s steps(1) infinite;\n",
              "  }\n",
              "\n",
              "  @keyframes spin {\n",
              "    0% {\n",
              "      border-color: transparent;\n",
              "      border-bottom-color: var(--fill-color);\n",
              "      border-left-color: var(--fill-color);\n",
              "    }\n",
              "    20% {\n",
              "      border-color: transparent;\n",
              "      border-left-color: var(--fill-color);\n",
              "      border-top-color: var(--fill-color);\n",
              "    }\n",
              "    30% {\n",
              "      border-color: transparent;\n",
              "      border-left-color: var(--fill-color);\n",
              "      border-top-color: var(--fill-color);\n",
              "      border-right-color: var(--fill-color);\n",
              "    }\n",
              "    40% {\n",
              "      border-color: transparent;\n",
              "      border-right-color: var(--fill-color);\n",
              "      border-top-color: var(--fill-color);\n",
              "    }\n",
              "    60% {\n",
              "      border-color: transparent;\n",
              "      border-right-color: var(--fill-color);\n",
              "    }\n",
              "    80% {\n",
              "      border-color: transparent;\n",
              "      border-right-color: var(--fill-color);\n",
              "      border-bottom-color: var(--fill-color);\n",
              "    }\n",
              "    90% {\n",
              "      border-color: transparent;\n",
              "      border-bottom-color: var(--fill-color);\n",
              "    }\n",
              "  }\n",
              "</style>\n",
              "\n",
              "  <script>\n",
              "    async function quickchart(key) {\n",
              "      const quickchartButtonEl =\n",
              "        document.querySelector('#' + key + ' button');\n",
              "      quickchartButtonEl.disabled = true;  // To prevent multiple clicks.\n",
              "      quickchartButtonEl.classList.add('colab-df-spinner');\n",
              "      try {\n",
              "        const charts = await google.colab.kernel.invokeFunction(\n",
              "            'suggestCharts', [key], {});\n",
              "      } catch (error) {\n",
              "        console.error('Error during call to suggestCharts:', error);\n",
              "      }\n",
              "      quickchartButtonEl.classList.remove('colab-df-spinner');\n",
              "      quickchartButtonEl.classList.add('colab-df-quickchart-complete');\n",
              "    }\n",
              "    (() => {\n",
              "      let quickchartButtonEl =\n",
              "        document.querySelector('#df-5620ee6a-972d-4f29-8fb1-4af95b0b6419 button');\n",
              "      quickchartButtonEl.style.display =\n",
              "        google.colab.kernel.accessAllowed ? 'block' : 'none';\n",
              "    })();\n",
              "  </script>\n",
              "</div>\n",
              "\n",
              "    </div>\n",
              "  </div>\n"
            ],
            "application/vnd.google.colaboratory.intrinsic+json": {
              "type": "dataframe",
              "variable_name": "application_df",
              "summary": "{\n  \"name\": \"application_df\",\n  \"rows\": 34299,\n  \"fields\": [\n    {\n      \"column\": \"EIN\",\n      \"properties\": {\n        \"dtype\": \"number\",\n        \"std\": 245147183,\n        \"min\": 10520599,\n        \"max\": 996086871,\n        \"num_unique_values\": 34299,\n        \"samples\": [\n          271598055,\n          900109768,\n          352562499\n        ],\n        \"semantic_type\": \"\",\n        \"description\": \"\"\n      }\n    },\n    {\n      \"column\": \"NAME\",\n      \"properties\": {\n        \"dtype\": \"string\",\n        \"num_unique_values\": 19568,\n        \"samples\": [\n          \"LOCAL 12 USW GOODYEAR INSTITUTE FORCAREER DEVELOPMENT\",\n          \"INTERNATION ASSOCIATION OF ELECTRICAL INSPECTORS\",\n          \"BRICKLAYERS & ALLIED CRAFTWORKERS LOCAL 13 VACATION FUND\"\n        ],\n        \"semantic_type\": \"\",\n        \"description\": \"\"\n      }\n    },\n    {\n      \"column\": \"APPLICATION_TYPE\",\n      \"properties\": {\n        \"dtype\": \"category\",\n        \"num_unique_values\": 17,\n        \"samples\": [\n          \"T10\",\n          \"T3\",\n          \"T6\"\n        ],\n        \"semantic_type\": \"\",\n        \"description\": \"\"\n      }\n    },\n    {\n      \"column\": \"AFFILIATION\",\n      \"properties\": {\n        \"dtype\": \"category\",\n        \"num_unique_values\": 6,\n        \"samples\": [\n          \"Independent\",\n          \"CompanySponsored\",\n          \"Other\"\n        ],\n        \"semantic_type\": \"\",\n        \"description\": \"\"\n      }\n    },\n    {\n      \"column\": \"CLASSIFICATION\",\n      \"properties\": {\n        \"dtype\": \"category\",\n        \"num_unique_values\": 71,\n        \"samples\": [\n          \"C1500\",\n          \"C1000\",\n          \"C1570\"\n        ],\n        \"semantic_type\": \"\",\n        \"description\": \"\"\n      }\n    },\n    {\n      \"column\": \"USE_CASE\",\n      \"properties\": {\n        \"dtype\": \"category\",\n        \"num_unique_values\": 5,\n        \"samples\": [\n          \"Preservation\",\n          \"Other\",\n          \"Heathcare\"\n        ],\n        \"semantic_type\": \"\",\n        \"description\": \"\"\n      }\n    },\n    {\n      \"column\": \"ORGANIZATION\",\n      \"properties\": {\n        \"dtype\": \"category\",\n        \"num_unique_values\": 4,\n        \"samples\": [\n          \"Co-operative\",\n          \"Corporation\",\n          \"Association\"\n        ],\n        \"semantic_type\": \"\",\n        \"description\": \"\"\n      }\n    },\n    {\n      \"column\": \"STATUS\",\n      \"properties\": {\n        \"dtype\": \"number\",\n        \"std\": 0,\n        \"min\": 0,\n        \"max\": 1,\n        \"num_unique_values\": 2,\n        \"samples\": [\n          0,\n          1\n        ],\n        \"semantic_type\": \"\",\n        \"description\": \"\"\n      }\n    },\n    {\n      \"column\": \"INCOME_AMT\",\n      \"properties\": {\n        \"dtype\": \"category\",\n        \"num_unique_values\": 9,\n        \"samples\": [\n          \"1M-5M\",\n          \"1-9999\"\n        ],\n        \"semantic_type\": \"\",\n        \"description\": \"\"\n      }\n    },\n    {\n      \"column\": \"SPECIAL_CONSIDERATIONS\",\n      \"properties\": {\n        \"dtype\": \"category\",\n        \"num_unique_values\": 2,\n        \"samples\": [\n          \"Y\",\n          \"N\"\n        ],\n        \"semantic_type\": \"\",\n        \"description\": \"\"\n      }\n    },\n    {\n      \"column\": \"ASK_AMT\",\n      \"properties\": {\n        \"dtype\": \"number\",\n        \"std\": 87130452,\n        \"min\": 5000,\n        \"max\": 8597806340,\n        \"num_unique_values\": 8747,\n        \"samples\": [\n          1328927,\n          42942\n        ],\n        \"semantic_type\": \"\",\n        \"description\": \"\"\n      }\n    },\n    {\n      \"column\": \"IS_SUCCESSFUL\",\n      \"properties\": {\n        \"dtype\": \"number\",\n        \"std\": 0,\n        \"min\": 0,\n        \"max\": 1,\n        \"num_unique_values\": 2,\n        \"samples\": [\n          0,\n          1\n        ],\n        \"semantic_type\": \"\",\n        \"description\": \"\"\n      }\n    }\n  ]\n}"
            }
          },
          "metadata": {},
          "execution_count": 24
        }
      ],
      "source": [
        "# Import our dependencies\n",
        "from sklearn.model_selection import train_test_split\n",
        "from sklearn.preprocessing import StandardScaler\n",
        "import pandas as pd\n",
        "import tensorflow as tf\n",
        "\n",
        "#  Import and read the charity_data.csv.\n",
        "application_df = pd.read_csv(\"https://static.bc-edx.com/data/dl-1-2/m21/lms/starter/charity_data.csv\")\n",
        "application_df.head()"
      ]
    },
    {
      "cell_type": "code",
      "execution_count": 25,
      "metadata": {
        "id": "Yg9s3oFk8936"
      },
      "outputs": [],
      "source": [
        "# Drop the non-beneficial ID columns, 'EIN' and 'NAME'.\n",
        "application_df = application_df.drop(columns=['EIN', 'NAME'])"
      ]
    },
    {
      "cell_type": "code",
      "execution_count": 26,
      "metadata": {
        "colab": {
          "base_uri": "https://localhost:8080/"
        },
        "id": "ijsf5CeA8937",
        "outputId": "9f430572-c309-4aa6-fb0d-59d885698b20"
      },
      "outputs": [
        {
          "output_type": "stream",
          "name": "stdout",
          "text": [
            "APPLICATION_TYPE            17\n",
            "AFFILIATION                  6\n",
            "CLASSIFICATION              71\n",
            "USE_CASE                     5\n",
            "ORGANIZATION                 4\n",
            "STATUS                       2\n",
            "INCOME_AMT                   9\n",
            "SPECIAL_CONSIDERATIONS       2\n",
            "ASK_AMT                   8747\n",
            "IS_SUCCESSFUL                2\n",
            "dtype: int64\n"
          ]
        }
      ],
      "source": [
        "# Determine the number of unique values in each column.\n",
        "u_values_application_df = application_df.nunique()\n",
        "print(u_values_application_df)"
      ]
    },
    {
      "cell_type": "code",
      "execution_count": 27,
      "metadata": {
        "colab": {
          "base_uri": "https://localhost:8080/"
        },
        "outputId": "4b9b123e-ad5d-4d1a-e3b3-797ed3e611b7",
        "id": "6d2hBT0xWLJz"
      },
      "outputs": [
        {
          "output_type": "stream",
          "name": "stdout",
          "text": [
            "APPLICATION_TYPE\n",
            "T3     27037\n",
            "T4      1542\n",
            "T6      1216\n",
            "T5      1173\n",
            "T19     1065\n",
            "T8       737\n",
            "T7       725\n",
            "T10      528\n",
            "T9       156\n",
            "T13       66\n",
            "T12       27\n",
            "T2        16\n",
            "T25        3\n",
            "T14        3\n",
            "T29        2\n",
            "T15        2\n",
            "T17        1\n",
            "Name: APPLICATION_TYPE, dtype: int64\n"
          ]
        }
      ],
      "source": [
        "# Look at APPLICATION_TYPE value counts to identify and replace with \"Other\"\n",
        "app_type_counts = application_df['APPLICATION_TYPE'].value_counts()\n",
        "app_type_counts.name = 'APPLICATION_TYPE'\n",
        "\n",
        "print(app_type_counts)"
      ]
    },
    {
      "cell_type": "code",
      "execution_count": 28,
      "metadata": {
        "colab": {
          "base_uri": "https://localhost:8080/"
        },
        "id": "Ag-MUmVv8937",
        "outputId": "f21c2ecc-bc59-4f04-ab83-ddaa49b52a1a"
      },
      "outputs": [
        {
          "output_type": "stream",
          "name": "stdout",
          "text": [
            "APPLICATION_TYPE\n",
            "T3       27037\n",
            "T4        1542\n",
            "T6        1216\n",
            "T5        1173\n",
            "T19       1065\n",
            "T8         737\n",
            "T7         725\n",
            "T10        528\n",
            "T9         156\n",
            "Other      120\n",
            "Name: APPLICATION_TYPE, dtype: int64\n"
          ]
        }
      ],
      "source": [
        "# Choose a cutoff value and create a list of application types to be replaced\n",
        "# use the variable name `application_types_to_replace`\n",
        "# Get Value Counts:\n",
        "app_type_counts = application_df['APPLICATION_TYPE'].value_counts()\n",
        "\n",
        "# Determine cutoff\n",
        "cutoff = 100\n",
        "\n",
        "# Create a List of Application Types to Replace\n",
        "application_types_to_replace = app_type_counts[app_type_counts < cutoff].index.tolist()\n",
        "\n",
        "# Replace Infrequent Application Types with \"Other\":\n",
        "application_df['APPLICATION_TYPE'] = application_df['APPLICATION_TYPE'].apply(\n",
        "    lambda x: 'Other' if x in application_types_to_replace else x\n",
        ")\n",
        "\n",
        "# Verify the replacements\n",
        "app_type_counts_after = application_df['APPLICATION_TYPE'].value_counts()\n",
        "app_type_counts_after.name = 'APPLICATION_TYPE'\n",
        "print(app_type_counts_after)\n"
      ]
    },
    {
      "cell_type": "code",
      "source": [
        "# Look at CLASSIFICATION value counts to identify and replace with \"Other\"\n",
        "classification_counts_after = application_df['CLASSIFICATION'].value_counts()\n",
        "classification_counts_after.name = 'CLASSIFICATION'\n",
        "print(classification_counts_after)\n"
      ],
      "metadata": {
        "colab": {
          "base_uri": "https://localhost:8080/"
        },
        "id": "qFHsq86_Jq4o",
        "outputId": "bac6f6b2-998f-4376-dcd7-bc1202c12fa6"
      },
      "execution_count": 29,
      "outputs": [
        {
          "output_type": "stream",
          "name": "stdout",
          "text": [
            "CLASSIFICATION\n",
            "C1000    17326\n",
            "C2000     6074\n",
            "C1200     4837\n",
            "C3000     1918\n",
            "C2100     1883\n",
            "         ...  \n",
            "C4120        1\n",
            "C8210        1\n",
            "C2561        1\n",
            "C4500        1\n",
            "C2150        1\n",
            "Name: CLASSIFICATION, Length: 71, dtype: int64\n"
          ]
        }
      ]
    },
    {
      "cell_type": "code",
      "source": [
        "# You may find it helpful to look at CLASSIFICATION value counts >1\n",
        "classification_counts = application_df['CLASSIFICATION'].value_counts()\n",
        "classification_counts_gt_1 = classification_counts[classification_counts > 1]\n",
        "classification_counts_gt_1.name = 'CLASSIFICATION'\n",
        "print(classification_counts_gt_1)\n",
        "\n"
      ],
      "metadata": {
        "colab": {
          "base_uri": "https://localhost:8080/"
        },
        "id": "yT6H9qDXGKY1",
        "outputId": "dd9285f8-26d7-4b42-86a4-9cd8afabe955"
      },
      "execution_count": 30,
      "outputs": [
        {
          "output_type": "stream",
          "name": "stdout",
          "text": [
            "CLASSIFICATION\n",
            "C1000    17326\n",
            "C2000     6074\n",
            "C1200     4837\n",
            "C3000     1918\n",
            "C2100     1883\n",
            "C7000      777\n",
            "C1700      287\n",
            "C4000      194\n",
            "C5000      116\n",
            "C1270      114\n",
            "C2700      104\n",
            "C2800       95\n",
            "C7100       75\n",
            "C1300       58\n",
            "C1280       50\n",
            "C1230       36\n",
            "C1400       34\n",
            "C7200       32\n",
            "C2300       32\n",
            "C1240       30\n",
            "C8000       20\n",
            "C7120       18\n",
            "C1500       16\n",
            "C1800       15\n",
            "C6000       15\n",
            "C1250       14\n",
            "C8200       11\n",
            "C1238       10\n",
            "C1278       10\n",
            "C1235        9\n",
            "C1237        9\n",
            "C7210        7\n",
            "C2400        6\n",
            "C1720        6\n",
            "C4100        6\n",
            "C1257        5\n",
            "C1600        5\n",
            "C1260        3\n",
            "C2710        3\n",
            "C0           3\n",
            "C3200        2\n",
            "C1234        2\n",
            "C1246        2\n",
            "C1267        2\n",
            "C1256        2\n",
            "Name: CLASSIFICATION, dtype: int64\n"
          ]
        }
      ]
    },
    {
      "cell_type": "code",
      "execution_count": 31,
      "metadata": {
        "id": "hAKTbW0p8939",
        "outputId": "c5ff0745-9bcb-4ca6-b234-6d56fa08447a",
        "colab": {
          "base_uri": "https://localhost:8080/"
        }
      },
      "outputs": [
        {
          "output_type": "stream",
          "name": "stdout",
          "text": [
            "Initial classification counts:\n",
            "CLASSIFICATION\n",
            "C1000    17326\n",
            "C2000     6074\n",
            "C1200     4837\n",
            "C3000     1918\n",
            "C2100     1883\n",
            "         ...  \n",
            "C4120        1\n",
            "C8210        1\n",
            "C2561        1\n",
            "C4500        1\n",
            "C2150        1\n",
            "Name: CLASSIFICATION, Length: 71, dtype: int64\n",
            "Classifications to replace: ['C2800', 'C7100', 'C1300', 'C1280', 'C1230', 'C1400', 'C7200', 'C2300', 'C1240', 'C8000', 'C7120', 'C1500', 'C1800', 'C6000', 'C1250', 'C8200', 'C1238', 'C1278', 'C1235', 'C1237', 'C7210', 'C2400', 'C1720', 'C4100', 'C1257', 'C1600', 'C1260', 'C2710', 'C0', 'C3200', 'C1234', 'C1246', 'C1267', 'C1256', 'C2190', 'C4200', 'C2600', 'C5200', 'C1370', 'C1248', 'C6100', 'C1820', 'C1900', 'C1236', 'C3700', 'C2570', 'C1580', 'C1245', 'C2500', 'C1570', 'C1283', 'C2380', 'C1732', 'C1728', 'C2170', 'C4120', 'C8210', 'C2561', 'C4500', 'C2150']\n"
          ]
        }
      ],
      "source": [
        "# Choose a cutoff value and create a list of classifications to be replaced\n",
        "# use the variable name `classifications_to_replace`\n",
        "# classifications_to_replace = classification_counts[classification_counts < cutoff].index.tolist()\n",
        "\n",
        "\n",
        "# # Replace in dataframe\n",
        "# for cls in classifications_to_replace:\n",
        "#     application_df['CLASSIFICATION'] = application_df['CLASSIFICATION'].replace(cls,\"Other\")\n",
        "\n",
        "# # Check to make sure replacement was successful\n",
        "# application_df['CLASSIFICATION'].value_counts()\n",
        "\n",
        "\n",
        "# Step 1: Get value counts for the CLASSIFICATION column\n",
        "classification_counts = application_df['CLASSIFICATION'].value_counts()\n",
        "classification_counts.name = 'CLASSIFICATION'\n",
        "print(\"Initial classification counts:\")\n",
        "print(classification_counts)\n",
        "\n",
        "# Step 2: Determine the cutoff value\n",
        "cutoff = 100\n",
        "\n",
        "# Step 3: Create a list of classifications to be replaced\n",
        "classifications_to_replace = classification_counts[classification_counts < cutoff].index.tolist()\n",
        "print(\"Classifications to replace:\", classifications_to_replace)\n",
        "\n",
        "# Step 4: Replace infrequent classifications with 'Other' in the dataframe\n",
        "application_df['CLASSIFICATION'] = application_df['CLASSIFICATION'].apply(\n",
        "    lambda x: 'Other' if x in classifications_to_replace else x\n",
        ")"
      ]
    },
    {
      "cell_type": "code",
      "execution_count": 32,
      "metadata": {
        "id": "Iszng4Wh8939",
        "colab": {
          "base_uri": "https://localhost:8080/"
        },
        "outputId": "776a05d1-b827-4838-e257-0ecd768d047b"
      },
      "outputs": [
        {
          "output_type": "stream",
          "name": "stdout",
          "text": [
            "        AFFILIATION      USE_CASE  ORGANIZATION  STATUS     INCOME_AMT  \\\n",
            "0       Independent    ProductDev   Association       1              0   \n",
            "1       Independent  Preservation  Co-operative       1         1-9999   \n",
            "2  CompanySponsored    ProductDev   Association       1              0   \n",
            "3  CompanySponsored  Preservation         Trust       1    10000-24999   \n",
            "4       Independent     Heathcare         Trust       1  100000-499999   \n",
            "\n",
            "  SPECIAL_CONSIDERATIONS  ASK_AMT  IS_SUCCESSFUL  APPLICATION_TYPE_Other  \\\n",
            "0                      N     5000              1                   False   \n",
            "1                      N   108590              1                   False   \n",
            "2                      N     5000              0                   False   \n",
            "3                      N     6692              1                   False   \n",
            "4                      N   142590              1                   False   \n",
            "\n",
            "   APPLICATION_TYPE_T10  ...  CLASSIFICATION_C1270  CLASSIFICATION_C1700  \\\n",
            "0                  True  ...                 False                 False   \n",
            "1                 False  ...                 False                 False   \n",
            "2                 False  ...                 False                 False   \n",
            "3                 False  ...                 False                 False   \n",
            "4                 False  ...                 False                 False   \n",
            "\n",
            "   CLASSIFICATION_C2000  CLASSIFICATION_C2100  CLASSIFICATION_C2700  \\\n",
            "0                 False                 False                 False   \n",
            "1                  True                 False                 False   \n",
            "2                 False                 False                 False   \n",
            "3                  True                 False                 False   \n",
            "4                 False                 False                 False   \n",
            "\n",
            "   CLASSIFICATION_C3000  CLASSIFICATION_C4000  CLASSIFICATION_C5000  \\\n",
            "0                 False                 False                 False   \n",
            "1                 False                 False                 False   \n",
            "2                  True                 False                 False   \n",
            "3                 False                 False                 False   \n",
            "4                 False                 False                 False   \n",
            "\n",
            "   CLASSIFICATION_C7000  CLASSIFICATION_Other  \n",
            "0                 False                 False  \n",
            "1                 False                 False  \n",
            "2                 False                 False  \n",
            "3                 False                 False  \n",
            "4                 False                 False  \n",
            "\n",
            "[5 rows x 30 columns]\n"
          ]
        }
      ],
      "source": [
        "# Convert categorical data to numeric with `pd.get_dummies`\n",
        "\n",
        "#  Lets suppose columns Application_type and classification can be categorised.\n",
        "categorical_columns = ['APPLICATION_TYPE', 'CLASSIFICATION']\n",
        "\n",
        "# Apply pd.get_dummies\n",
        "application_df_encoded = pd.get_dummies(application_df, columns=categorical_columns)\n",
        "\n",
        "\n",
        "# print new dataframe\n",
        "print(application_df_encoded.head())\n"
      ]
    },
    {
      "cell_type": "code",
      "execution_count": 33,
      "metadata": {
        "id": "pvBp0bQm8939",
        "colab": {
          "base_uri": "https://localhost:8080/"
        },
        "outputId": "7dee8f08-e2c1-4481-88aa-df1edae7cac6"
      },
      "outputs": [
        {
          "output_type": "stream",
          "name": "stdout",
          "text": [
            "   STATUS  ASK_AMT  IS_SUCCESSFUL  AFFILIATION_CompanySponsored  \\\n",
            "0       1     5000              1                         False   \n",
            "1       1   108590              1                         False   \n",
            "2       1     5000              0                          True   \n",
            "3       1     6692              1                          True   \n",
            "4       1   142590              1                         False   \n",
            "\n",
            "   AFFILIATION_Family/Parent  AFFILIATION_Independent  AFFILIATION_National  \\\n",
            "0                      False                     True                 False   \n",
            "1                      False                     True                 False   \n",
            "2                      False                    False                 False   \n",
            "3                      False                    False                 False   \n",
            "4                      False                     True                 False   \n",
            "\n",
            "   AFFILIATION_Other  AFFILIATION_Regional  USE_CASE_CommunityServ  ...  \\\n",
            "0              False                 False                   False  ...   \n",
            "1              False                 False                   False  ...   \n",
            "2              False                 False                   False  ...   \n",
            "3              False                 False                   False  ...   \n",
            "4              False                 False                   False  ...   \n",
            "\n",
            "   CLASSIFICATION_C1270  CLASSIFICATION_C1700  CLASSIFICATION_C2000  \\\n",
            "0                 False                 False                 False   \n",
            "1                 False                 False                  True   \n",
            "2                 False                 False                 False   \n",
            "3                 False                 False                  True   \n",
            "4                 False                 False                 False   \n",
            "\n",
            "   CLASSIFICATION_C2100  CLASSIFICATION_C2700  CLASSIFICATION_C3000  \\\n",
            "0                 False                 False                 False   \n",
            "1                 False                 False                 False   \n",
            "2                 False                 False                  True   \n",
            "3                 False                 False                 False   \n",
            "4                 False                 False                 False   \n",
            "\n",
            "   CLASSIFICATION_C4000  CLASSIFICATION_C5000  CLASSIFICATION_C7000  \\\n",
            "0                 False                 False                 False   \n",
            "1                 False                 False                 False   \n",
            "2                 False                 False                 False   \n",
            "3                 False                 False                 False   \n",
            "4                 False                 False                 False   \n",
            "\n",
            "   CLASSIFICATION_Other  \n",
            "0                 False  \n",
            "1                 False  \n",
            "2                 False  \n",
            "3                 False  \n",
            "4                 False  \n",
            "\n",
            "[5 rows x 51 columns]\n",
            "Columns in the encoded dataframe: Index(['STATUS', 'ASK_AMT', 'IS_SUCCESSFUL', 'AFFILIATION_CompanySponsored',\n",
            "       'AFFILIATION_Family/Parent', 'AFFILIATION_Independent',\n",
            "       'AFFILIATION_National', 'AFFILIATION_Other', 'AFFILIATION_Regional',\n",
            "       'USE_CASE_CommunityServ', 'USE_CASE_Heathcare', 'USE_CASE_Other',\n",
            "       'USE_CASE_Preservation', 'USE_CASE_ProductDev',\n",
            "       'ORGANIZATION_Association', 'ORGANIZATION_Co-operative',\n",
            "       'ORGANIZATION_Corporation', 'ORGANIZATION_Trust', 'INCOME_AMT_0',\n",
            "       'INCOME_AMT_1-9999', 'INCOME_AMT_10000-24999',\n",
            "       'INCOME_AMT_100000-499999', 'INCOME_AMT_10M-50M', 'INCOME_AMT_1M-5M',\n",
            "       'INCOME_AMT_25000-99999', 'INCOME_AMT_50M+', 'INCOME_AMT_5M-10M',\n",
            "       'SPECIAL_CONSIDERATIONS_N', 'SPECIAL_CONSIDERATIONS_Y',\n",
            "       'APPLICATION_TYPE_Other', 'APPLICATION_TYPE_T10',\n",
            "       'APPLICATION_TYPE_T19', 'APPLICATION_TYPE_T3', 'APPLICATION_TYPE_T4',\n",
            "       'APPLICATION_TYPE_T5', 'APPLICATION_TYPE_T6', 'APPLICATION_TYPE_T7',\n",
            "       'APPLICATION_TYPE_T8', 'APPLICATION_TYPE_T9', 'CLASSIFICATION_C1000',\n",
            "       'CLASSIFICATION_C1200', 'CLASSIFICATION_C1270', 'CLASSIFICATION_C1700',\n",
            "       'CLASSIFICATION_C2000', 'CLASSIFICATION_C2100', 'CLASSIFICATION_C2700',\n",
            "       'CLASSIFICATION_C3000', 'CLASSIFICATION_C4000', 'CLASSIFICATION_C5000',\n",
            "       'CLASSIFICATION_C7000', 'CLASSIFICATION_Other'],\n",
            "      dtype='object')\n",
            "X_train_scaled shape: (25724, 50)\n",
            "X_test_scaled shape: (8575, 50)\n"
          ]
        }
      ],
      "source": [
        "# Ensure all categorical columns are converted to numeric with pd.get_dummies\n",
        "categorical_columns = ['AFFILIATION', 'USE_CASE', 'ORGANIZATION', 'INCOME_AMT', 'SPECIAL_CONSIDERATIONS', 'APPLICATION_TYPE', 'CLASSIFICATION']\n",
        "\n",
        "# Apply pd.get_dummies\n",
        "application_df_encoded = pd.get_dummies(application_df, columns=categorical_columns)\n",
        "\n",
        "# Print new dataframe to verify\n",
        "print(application_df_encoded.head())\n",
        "\n",
        "# Check the column names to ensure no categorical data is left\n",
        "print(\"Columns in the encoded dataframe:\", application_df_encoded.columns)\n",
        "\n",
        "# Split our preprocessed data into our features and target arrays\n",
        "y = application_df_encoded[\"IS_SUCCESSFUL\"].values\n",
        "X = application_df_encoded.drop(\"IS_SUCCESSFUL\", axis=1).values\n",
        "\n",
        "# Split the preprocessed data into a training and testing dataset\n",
        "X_train, X_test, y_train, y_test = train_test_split(X, y, random_state=78)\n",
        "\n",
        "# Create a StandardScaler instance\n",
        "scaler = StandardScaler()\n",
        "\n",
        "# Fit the StandardScaler on the training data\n",
        "scaler.fit(X_train)\n",
        "\n",
        "# Scale the training and testing data\n",
        "X_train_scaled = scaler.transform(X_train)\n",
        "X_test_scaled = scaler.transform(X_test)\n",
        "\n",
        "# Verify the shapes of the scaled data\n",
        "print(f\"X_train_scaled shape: {X_train_scaled.shape}\")\n",
        "print(f\"X_test_scaled shape: {X_test_scaled.shape}\")\n"
      ]
    },
    {
      "cell_type": "code",
      "execution_count": 34,
      "metadata": {
        "id": "nNwrrvfS8939",
        "colab": {
          "base_uri": "https://localhost:8080/"
        },
        "outputId": "7b5f4a04-efbd-47d0-90ef-f806d20a9b00"
      },
      "outputs": [
        {
          "output_type": "stream",
          "name": "stdout",
          "text": [
            "X_train_scaled shape: (25724, 50)\n",
            "X_test_scaled shape: (8575, 50)\n"
          ]
        }
      ],
      "source": [
        "# Create a StandardScaler instance\n",
        "scaler = StandardScaler()\n",
        "\n",
        "# Fit the StandardScaler on the training data\n",
        "scaler.fit(X_train)\n",
        "\n",
        "# Scale the training and testing data\n",
        "X_train_scaled = scaler.transform(X_train)\n",
        "X_test_scaled = scaler.transform(X_test)\n",
        "\n",
        "# Verify the shapes of the scaled data\n",
        "print(f\"X_train_scaled shape: {X_train_scaled.shape}\")\n",
        "print(f\"X_test_scaled shape: {X_test_scaled.shape}\")"
      ]
    },
    {
      "cell_type": "markdown",
      "metadata": {
        "id": "36a8jv-d8939"
      },
      "source": [
        "## Compile, Train and Evaluate the Model"
      ]
    },
    {
      "cell_type": "code",
      "execution_count": 35,
      "metadata": {
        "id": "p9TMH16U8939",
        "outputId": "e40c07b9-2793-4a4c-a60b-ff43c8a88b78",
        "colab": {
          "base_uri": "https://localhost:8080/"
        }
      },
      "outputs": [
        {
          "output_type": "stream",
          "name": "stdout",
          "text": [
            "Model: \"sequential_4\"\n",
            "_________________________________________________________________\n",
            " Layer (type)                Output Shape              Param #   \n",
            "=================================================================\n",
            " dense_6 (Dense)             (None, 80)                4080      \n",
            "                                                                 \n",
            " dense_7 (Dense)             (None, 30)                2430      \n",
            "                                                                 \n",
            " dense_8 (Dense)             (None, 1)                 31        \n",
            "                                                                 \n",
            "=================================================================\n",
            "Total params: 6541 (25.55 KB)\n",
            "Trainable params: 6541 (25.55 KB)\n",
            "Non-trainable params: 0 (0.00 Byte)\n",
            "_________________________________________________________________\n"
          ]
        }
      ],
      "source": [
        "from tensorflow.keras.models import Sequential\n",
        "from tensorflow.keras.layers import Dense\n",
        "\n",
        "# Define the model\n",
        "model = Sequential()\n",
        "\n",
        "# Add the input layer and the first hidden layer\n",
        "model.add(Dense(80, input_dim=X_train_scaled.shape[1], activation='relu'))\n",
        "\n",
        "# Add a second hidden layer\n",
        "model.add(Dense(30, activation='relu'))\n",
        "\n",
        "# Add the output layer\n",
        "model.add(Dense(1, activation='sigmoid'))\n",
        "\n",
        "# Check the structure of the model\n",
        "model.summary()\n"
      ]
    },
    {
      "cell_type": "code",
      "execution_count": 37,
      "metadata": {
        "id": "5xAMLUhE893-"
      },
      "outputs": [],
      "source": [
        "# Compile the model\n",
        "model.compile(loss='binary_crossentropy', optimizer='adam', metrics=['accuracy'])"
      ]
    },
    {
      "cell_type": "code",
      "execution_count": 38,
      "metadata": {
        "id": "XmhLTd6m893-",
        "outputId": "50618542-0777-455d-a810-c1694197f47f",
        "colab": {
          "base_uri": "https://localhost:8080/"
        }
      },
      "outputs": [
        {
          "output_type": "stream",
          "name": "stdout",
          "text": [
            "Epoch 1/50\n",
            "804/804 [==============================] - 3s 3ms/step - loss: 0.5691 - accuracy: 0.7219 - val_loss: 0.5604 - val_accuracy: 0.7227\n",
            "Epoch 2/50\n",
            "804/804 [==============================] - 2s 2ms/step - loss: 0.5542 - accuracy: 0.7302 - val_loss: 0.5562 - val_accuracy: 0.7233\n",
            "Epoch 3/50\n",
            "804/804 [==============================] - 2s 3ms/step - loss: 0.5508 - accuracy: 0.7308 - val_loss: 0.5566 - val_accuracy: 0.7251\n",
            "Epoch 4/50\n",
            "804/804 [==============================] - 2s 3ms/step - loss: 0.5488 - accuracy: 0.7319 - val_loss: 0.5565 - val_accuracy: 0.7203\n",
            "Epoch 5/50\n",
            "804/804 [==============================] - 3s 3ms/step - loss: 0.5476 - accuracy: 0.7320 - val_loss: 0.5526 - val_accuracy: 0.7249\n",
            "Epoch 6/50\n",
            "804/804 [==============================] - 2s 3ms/step - loss: 0.5463 - accuracy: 0.7344 - val_loss: 0.5543 - val_accuracy: 0.7188\n",
            "Epoch 7/50\n",
            "804/804 [==============================] - 2s 2ms/step - loss: 0.5456 - accuracy: 0.7332 - val_loss: 0.5517 - val_accuracy: 0.7222\n",
            "Epoch 8/50\n",
            "804/804 [==============================] - 2s 2ms/step - loss: 0.5448 - accuracy: 0.7338 - val_loss: 0.5545 - val_accuracy: 0.7256\n",
            "Epoch 9/50\n",
            "804/804 [==============================] - 2s 3ms/step - loss: 0.5437 - accuracy: 0.7350 - val_loss: 0.5515 - val_accuracy: 0.7264\n",
            "Epoch 10/50\n",
            "804/804 [==============================] - 2s 3ms/step - loss: 0.5435 - accuracy: 0.7364 - val_loss: 0.5530 - val_accuracy: 0.7256\n",
            "Epoch 11/50\n",
            "804/804 [==============================] - 3s 4ms/step - loss: 0.5429 - accuracy: 0.7365 - val_loss: 0.5514 - val_accuracy: 0.7264\n",
            "Epoch 12/50\n",
            "804/804 [==============================] - 2s 3ms/step - loss: 0.5421 - accuracy: 0.7362 - val_loss: 0.5535 - val_accuracy: 0.7266\n",
            "Epoch 13/50\n",
            "804/804 [==============================] - 2s 3ms/step - loss: 0.5417 - accuracy: 0.7370 - val_loss: 0.5508 - val_accuracy: 0.7240\n",
            "Epoch 14/50\n",
            "804/804 [==============================] - 2s 2ms/step - loss: 0.5415 - accuracy: 0.7358 - val_loss: 0.5501 - val_accuracy: 0.7263\n",
            "Epoch 15/50\n",
            "804/804 [==============================] - 2s 2ms/step - loss: 0.5415 - accuracy: 0.7364 - val_loss: 0.5519 - val_accuracy: 0.7252\n",
            "Epoch 16/50\n",
            "804/804 [==============================] - 2s 3ms/step - loss: 0.5408 - accuracy: 0.7372 - val_loss: 0.5538 - val_accuracy: 0.7261\n",
            "Epoch 17/50\n",
            "804/804 [==============================] - 3s 4ms/step - loss: 0.5410 - accuracy: 0.7377 - val_loss: 0.5499 - val_accuracy: 0.7287\n",
            "Epoch 18/50\n",
            "804/804 [==============================] - 2s 3ms/step - loss: 0.5402 - accuracy: 0.7369 - val_loss: 0.5510 - val_accuracy: 0.7259\n",
            "Epoch 19/50\n",
            "804/804 [==============================] - 2s 2ms/step - loss: 0.5398 - accuracy: 0.7366 - val_loss: 0.5549 - val_accuracy: 0.7262\n",
            "Epoch 20/50\n",
            "804/804 [==============================] - 2s 3ms/step - loss: 0.5401 - accuracy: 0.7385 - val_loss: 0.5498 - val_accuracy: 0.7237\n",
            "Epoch 21/50\n",
            "804/804 [==============================] - 2s 2ms/step - loss: 0.5391 - accuracy: 0.7374 - val_loss: 0.5519 - val_accuracy: 0.7261\n",
            "Epoch 22/50\n",
            "804/804 [==============================] - 2s 2ms/step - loss: 0.5391 - accuracy: 0.7379 - val_loss: 0.5493 - val_accuracy: 0.7271\n",
            "Epoch 23/50\n",
            "804/804 [==============================] - 3s 4ms/step - loss: 0.5391 - accuracy: 0.7396 - val_loss: 0.5518 - val_accuracy: 0.7264\n",
            "Epoch 24/50\n",
            "804/804 [==============================] - 2s 3ms/step - loss: 0.5391 - accuracy: 0.7377 - val_loss: 0.5517 - val_accuracy: 0.7286\n",
            "Epoch 25/50\n",
            "804/804 [==============================] - 2s 3ms/step - loss: 0.5391 - accuracy: 0.7375 - val_loss: 0.5511 - val_accuracy: 0.7258\n",
            "Epoch 26/50\n",
            "804/804 [==============================] - 2s 3ms/step - loss: 0.5388 - accuracy: 0.7385 - val_loss: 0.5497 - val_accuracy: 0.7269\n",
            "Epoch 27/50\n",
            "804/804 [==============================] - 2s 3ms/step - loss: 0.5381 - accuracy: 0.7387 - val_loss: 0.5523 - val_accuracy: 0.7270\n",
            "Epoch 28/50\n",
            "804/804 [==============================] - 2s 2ms/step - loss: 0.5381 - accuracy: 0.7383 - val_loss: 0.5520 - val_accuracy: 0.7248\n",
            "Epoch 29/50\n",
            "804/804 [==============================] - 3s 3ms/step - loss: 0.5380 - accuracy: 0.7382 - val_loss: 0.5519 - val_accuracy: 0.7259\n",
            "Epoch 30/50\n",
            "804/804 [==============================] - 2s 3ms/step - loss: 0.5378 - accuracy: 0.7397 - val_loss: 0.5513 - val_accuracy: 0.7263\n",
            "Epoch 31/50\n",
            "804/804 [==============================] - 2s 2ms/step - loss: 0.5373 - accuracy: 0.7400 - val_loss: 0.5519 - val_accuracy: 0.7258\n",
            "Epoch 32/50\n",
            "804/804 [==============================] - 2s 3ms/step - loss: 0.5369 - accuracy: 0.7395 - val_loss: 0.5567 - val_accuracy: 0.7271\n",
            "Epoch 33/50\n",
            "804/804 [==============================] - 2s 3ms/step - loss: 0.5372 - accuracy: 0.7392 - val_loss: 0.5530 - val_accuracy: 0.7263\n",
            "Epoch 34/50\n",
            "804/804 [==============================] - 2s 3ms/step - loss: 0.5374 - accuracy: 0.7394 - val_loss: 0.5514 - val_accuracy: 0.7255\n",
            "Epoch 35/50\n",
            "804/804 [==============================] - 3s 3ms/step - loss: 0.5364 - accuracy: 0.7403 - val_loss: 0.5526 - val_accuracy: 0.7256\n",
            "Epoch 36/50\n",
            "804/804 [==============================] - 2s 3ms/step - loss: 0.5367 - accuracy: 0.7392 - val_loss: 0.5527 - val_accuracy: 0.7258\n",
            "Epoch 37/50\n",
            "804/804 [==============================] - 2s 2ms/step - loss: 0.5371 - accuracy: 0.7395 - val_loss: 0.5523 - val_accuracy: 0.7257\n",
            "Epoch 38/50\n",
            "804/804 [==============================] - 2s 3ms/step - loss: 0.5364 - accuracy: 0.7399 - val_loss: 0.5526 - val_accuracy: 0.7264\n",
            "Epoch 39/50\n",
            "804/804 [==============================] - 2s 3ms/step - loss: 0.5362 - accuracy: 0.7404 - val_loss: 0.5513 - val_accuracy: 0.7275\n",
            "Epoch 40/50\n",
            "804/804 [==============================] - 2s 3ms/step - loss: 0.5361 - accuracy: 0.7393 - val_loss: 0.5534 - val_accuracy: 0.7242\n",
            "Epoch 41/50\n",
            "804/804 [==============================] - 3s 4ms/step - loss: 0.5361 - accuracy: 0.7393 - val_loss: 0.5530 - val_accuracy: 0.7257\n",
            "Epoch 42/50\n",
            "804/804 [==============================] - 2s 3ms/step - loss: 0.5361 - accuracy: 0.7409 - val_loss: 0.5519 - val_accuracy: 0.7262\n",
            "Epoch 43/50\n",
            "804/804 [==============================] - 2s 3ms/step - loss: 0.5359 - accuracy: 0.7404 - val_loss: 0.5527 - val_accuracy: 0.7247\n",
            "Epoch 44/50\n",
            "804/804 [==============================] - 2s 2ms/step - loss: 0.5353 - accuracy: 0.7404 - val_loss: 0.5523 - val_accuracy: 0.7269\n",
            "Epoch 45/50\n",
            "804/804 [==============================] - 2s 3ms/step - loss: 0.5357 - accuracy: 0.7392 - val_loss: 0.5540 - val_accuracy: 0.7247\n",
            "Epoch 46/50\n",
            "804/804 [==============================] - 2s 3ms/step - loss: 0.5355 - accuracy: 0.7394 - val_loss: 0.5538 - val_accuracy: 0.7256\n",
            "Epoch 47/50\n",
            "804/804 [==============================] - 3s 4ms/step - loss: 0.5354 - accuracy: 0.7405 - val_loss: 0.5537 - val_accuracy: 0.7270\n",
            "Epoch 48/50\n",
            "804/804 [==============================] - 2s 3ms/step - loss: 0.5352 - accuracy: 0.7403 - val_loss: 0.5526 - val_accuracy: 0.7257\n",
            "Epoch 49/50\n",
            "804/804 [==============================] - 2s 2ms/step - loss: 0.5352 - accuracy: 0.7404 - val_loss: 0.5524 - val_accuracy: 0.7273\n",
            "Epoch 50/50\n",
            "804/804 [==============================] - 2s 3ms/step - loss: 0.5351 - accuracy: 0.7400 - val_loss: 0.5539 - val_accuracy: 0.7265\n"
          ]
        }
      ],
      "source": [
        "# Train the model\n",
        "history = model.fit(X_train_scaled, y_train, epochs=50, batch_size=32, validation_data=(X_test_scaled, y_test))\n"
      ]
    },
    {
      "cell_type": "code",
      "execution_count": 39,
      "metadata": {
        "id": "1nvsU14R893-",
        "outputId": "64731986-f3ee-4cb1-8517-81fca29b2af0",
        "colab": {
          "base_uri": "https://localhost:8080/"
        }
      },
      "outputs": [
        {
          "output_type": "stream",
          "name": "stdout",
          "text": [
            "268/268 - 0s - loss: 0.5539 - accuracy: 0.7265 - 340ms/epoch - 1ms/step\n",
            "Loss: 0.5538524985313416, Accuracy: 0.7265306115150452\n"
          ]
        }
      ],
      "source": [
        "# Evaluate the model using the test data\n",
        "model_loss, model_accuracy = model.evaluate(X_test_scaled, y_test, verbose=2)\n",
        "print(f\"Loss: {model_loss}, Accuracy: {model_accuracy}\")\n"
      ]
    },
    {
      "cell_type": "code",
      "execution_count": 22,
      "metadata": {
        "id": "8y2j8EAU893-"
      },
      "outputs": [],
      "source": [
        "# Export our model to HDF5 file\n",
        "model.save('my_model.keras')\n"
      ]
    },
    {
      "cell_type": "code",
      "source": [],
      "metadata": {
        "id": "6l0nfnvKlrrV"
      },
      "execution_count": null,
      "outputs": []
    },
    {
      "cell_type": "markdown",
      "source": [
        "### **Step 3: Optimizing the Model**"
      ],
      "metadata": {
        "id": "FB6teRD3lwjn"
      }
    },
    {
      "cell_type": "code",
      "source": [
        "# Import our dependencies\n",
        "import pandas as pd\n",
        "from sklearn.model_selection import train_test_split\n",
        "from sklearn.preprocessing import StandardScaler\n",
        "from tensorflow.keras.models import Sequential\n",
        "from tensorflow.keras.layers import Dense\n",
        "from tensorflow.keras.callbacks import EarlyStopping"
      ],
      "metadata": {
        "id": "eytXg4mtlyYm"
      },
      "execution_count": 55,
      "outputs": []
    },
    {
      "cell_type": "code",
      "source": [
        "# Binning rare occurrences\n",
        "cutoff = 200\n",
        "column_counts = application_df['APPLICATION_TYPE'].value_counts()\n",
        "to_replace = column_counts[column_counts < cutoff].index\n",
        "application_df_encoded['APPLICATION_TYPE'] = application_df['APPLICATION_TYPE'].replace(to_replace, 'Other')\n"
      ],
      "metadata": {
        "id": "bmrSgctNoJrE"
      },
      "execution_count": 56,
      "outputs": []
    },
    {
      "cell_type": "code",
      "source": [
        "# One-hot encode categorical variables\n",
        "application_df_encoded = pd.get_dummies(application_df)"
      ],
      "metadata": {
        "id": "ohrTAgGppGPD"
      },
      "execution_count": 57,
      "outputs": []
    },
    {
      "cell_type": "code",
      "source": [
        "# Split the data\n",
        "y = application_df_encoded[\"IS_SUCCESSFUL\"].values\n",
        "X = application_df_encoded.drop(\"IS_SUCCESSFUL\", axis=1).values\n",
        "\n",
        "X_train, X_test, y_train, y_test = train_test_split(X, y, random_state=78)\n",
        "\n"
      ],
      "metadata": {
        "id": "jSdXHGABpK3w"
      },
      "execution_count": 58,
      "outputs": []
    },
    {
      "cell_type": "code",
      "source": [
        "# Scale the data\n",
        "scaler = StandardScaler()\n",
        "X_train_scaled = scaler.fit_transform(X_train)\n",
        "X_test_scaled = scaler.transform(X_test)\n"
      ],
      "metadata": {
        "id": "hZ7hMtsCpMtD"
      },
      "execution_count": 59,
      "outputs": []
    },
    {
      "cell_type": "code",
      "source": [
        "# Define the model\n",
        "model = Sequential()\n",
        "model.add(Dense(100, input_dim=X_train_scaled.shape[1], activation='relu'))\n",
        "model.add(Dense(50, activation='tanh'))\n",
        "model.add(Dense(25, activation='relu'))\n",
        "model.add(Dense(1, activation='sigmoid'))\n"
      ],
      "metadata": {
        "id": "Z0Uqd0VJpPya"
      },
      "execution_count": 60,
      "outputs": []
    },
    {
      "cell_type": "code",
      "source": [
        "# Compile the model\n",
        "model.compile(loss='binary_crossentropy', optimizer='adam', metrics=['accuracy'])\n"
      ],
      "metadata": {
        "id": "0uxe3CpbpTEU"
      },
      "execution_count": 61,
      "outputs": []
    },
    {
      "cell_type": "code",
      "source": [
        "# # Implement early stopping\n",
        "# early_stopping = EarlyStopping(monitor='val_loss', patience=10)"
      ],
      "metadata": {
        "id": "0LymMsl3pXbi"
      },
      "execution_count": 62,
      "outputs": []
    },
    {
      "cell_type": "code",
      "source": [
        "# Train the model\n",
        "history = model.fit(X_train_scaled, y_train, epochs=100, batch_size=32, validation_data=(X_test_scaled, y_test), callbacks=[early_stopping])\n"
      ],
      "metadata": {
        "colab": {
          "base_uri": "https://localhost:8080/"
        },
        "id": "VA2eh13HpcZQ",
        "outputId": "5eaef893-f10f-4d1a-f774-039961847ded"
      },
      "execution_count": 63,
      "outputs": [
        {
          "output_type": "stream",
          "name": "stdout",
          "text": [
            "Epoch 1/100\n",
            "804/804 [==============================] - 3s 3ms/step - loss: 0.5647 - accuracy: 0.7206 - val_loss: 0.5586 - val_accuracy: 0.7219\n",
            "Epoch 2/100\n",
            "804/804 [==============================] - 3s 4ms/step - loss: 0.5523 - accuracy: 0.7308 - val_loss: 0.5530 - val_accuracy: 0.7242\n",
            "Epoch 3/100\n",
            "804/804 [==============================] - 3s 4ms/step - loss: 0.5501 - accuracy: 0.7291 - val_loss: 0.5517 - val_accuracy: 0.7265\n",
            "Epoch 4/100\n",
            "804/804 [==============================] - 3s 4ms/step - loss: 0.5483 - accuracy: 0.7329 - val_loss: 0.5517 - val_accuracy: 0.7252\n",
            "Epoch 5/100\n",
            "804/804 [==============================] - 2s 3ms/step - loss: 0.5470 - accuracy: 0.7338 - val_loss: 0.5529 - val_accuracy: 0.7233\n",
            "Epoch 6/100\n",
            "804/804 [==============================] - 2s 3ms/step - loss: 0.5466 - accuracy: 0.7325 - val_loss: 0.5508 - val_accuracy: 0.7263\n",
            "Epoch 7/100\n",
            "804/804 [==============================] - 2s 3ms/step - loss: 0.5459 - accuracy: 0.7339 - val_loss: 0.5496 - val_accuracy: 0.7264\n",
            "Epoch 8/100\n",
            "804/804 [==============================] - 2s 3ms/step - loss: 0.5451 - accuracy: 0.7355 - val_loss: 0.5517 - val_accuracy: 0.7228\n",
            "Epoch 9/100\n",
            "804/804 [==============================] - 3s 4ms/step - loss: 0.5441 - accuracy: 0.7346 - val_loss: 0.5505 - val_accuracy: 0.7262\n",
            "Epoch 10/100\n",
            "804/804 [==============================] - 3s 3ms/step - loss: 0.5439 - accuracy: 0.7353 - val_loss: 0.5485 - val_accuracy: 0.7280\n",
            "Epoch 11/100\n",
            "804/804 [==============================] - 2s 3ms/step - loss: 0.5430 - accuracy: 0.7359 - val_loss: 0.5506 - val_accuracy: 0.7261\n",
            "Epoch 12/100\n",
            "804/804 [==============================] - 2s 3ms/step - loss: 0.5424 - accuracy: 0.7363 - val_loss: 0.5514 - val_accuracy: 0.7261\n",
            "Epoch 13/100\n",
            "804/804 [==============================] - 2s 3ms/step - loss: 0.5423 - accuracy: 0.7358 - val_loss: 0.5495 - val_accuracy: 0.7270\n",
            "Epoch 14/100\n",
            "804/804 [==============================] - 3s 3ms/step - loss: 0.5418 - accuracy: 0.7357 - val_loss: 0.5477 - val_accuracy: 0.7251\n",
            "Epoch 15/100\n",
            "804/804 [==============================] - 3s 4ms/step - loss: 0.5413 - accuracy: 0.7373 - val_loss: 0.5485 - val_accuracy: 0.7261\n",
            "Epoch 16/100\n",
            "804/804 [==============================] - 2s 3ms/step - loss: 0.5408 - accuracy: 0.7374 - val_loss: 0.5495 - val_accuracy: 0.7264\n",
            "Epoch 17/100\n",
            "804/804 [==============================] - 2s 3ms/step - loss: 0.5406 - accuracy: 0.7380 - val_loss: 0.5516 - val_accuracy: 0.7270\n",
            "Epoch 18/100\n",
            "804/804 [==============================] - 2s 3ms/step - loss: 0.5397 - accuracy: 0.7372 - val_loss: 0.5497 - val_accuracy: 0.7273\n",
            "Epoch 19/100\n",
            "804/804 [==============================] - 2s 3ms/step - loss: 0.5393 - accuracy: 0.7374 - val_loss: 0.5484 - val_accuracy: 0.7265\n",
            "Epoch 20/100\n",
            "804/804 [==============================] - 3s 4ms/step - loss: 0.5392 - accuracy: 0.7384 - val_loss: 0.5496 - val_accuracy: 0.7250\n",
            "Epoch 21/100\n",
            "804/804 [==============================] - 2s 3ms/step - loss: 0.5392 - accuracy: 0.7371 - val_loss: 0.5484 - val_accuracy: 0.7278\n",
            "Epoch 22/100\n",
            "804/804 [==============================] - 2s 3ms/step - loss: 0.5386 - accuracy: 0.7390 - val_loss: 0.5497 - val_accuracy: 0.7269\n",
            "Epoch 23/100\n",
            "804/804 [==============================] - 2s 3ms/step - loss: 0.5386 - accuracy: 0.7385 - val_loss: 0.5502 - val_accuracy: 0.7275\n",
            "Epoch 24/100\n",
            "804/804 [==============================] - 2s 2ms/step - loss: 0.5379 - accuracy: 0.7387 - val_loss: 0.5516 - val_accuracy: 0.7275\n"
          ]
        }
      ]
    },
    {
      "cell_type": "code",
      "source": [
        "# Evaluate the model\n",
        "model_loss, model_accuracy = model.evaluate(X_test_scaled, y_test, verbose=2)\n",
        "print(f\"Loss: {model_loss}, Accuracy: {model_accuracy}\")\n"
      ],
      "metadata": {
        "colab": {
          "base_uri": "https://localhost:8080/"
        },
        "id": "JNuyz8JmqMON",
        "outputId": "ce7a9ab6-bd8e-4ba4-bf58-15fdabbe9494"
      },
      "execution_count": 64,
      "outputs": [
        {
          "output_type": "stream",
          "name": "stdout",
          "text": [
            "268/268 - 0s - loss: 0.5516 - accuracy: 0.7275 - 345ms/epoch - 1ms/step\n",
            "Loss: 0.551598310470581, Accuracy: 0.7274635434150696\n"
          ]
        }
      ]
    },
    {
      "cell_type": "code",
      "source": [
        "# Export our model to HDF5 file\n",
        "model.save('optimized_model.keras')"
      ],
      "metadata": {
        "id": "3KriJyIFqPRr"
      },
      "execution_count": 65,
      "outputs": []
    },
    {
      "cell_type": "markdown",
      "source": [
        "# 4. Review Model"
      ],
      "metadata": {
        "id": "sycbbg4Dq4JB"
      }
    },
    {
      "cell_type": "code",
      "source": [
        "import pandas as pd\n",
        "from sklearn.model_selection import train_test_split\n",
        "from sklearn.preprocessing import StandardScaler\n",
        "from tensorflow.keras.models import Sequential\n",
        "from tensorflow.keras.layers import Dense, LeakyReLU\n",
        "from tensorflow.keras.callbacks import EarlyStopping\n",
        "from tensorflow.keras.optimizers import Adam"
      ],
      "metadata": {
        "id": "OzqPV9t0qaSl"
      },
      "execution_count": 66,
      "outputs": []
    },
    {
      "cell_type": "code",
      "source": [
        "# Binning rare occurrences\n",
        "cutoff = 200\n",
        "column_counts = application_df['APPLICATION_TYPE'].value_counts()\n",
        "to_replace = column_counts[column_counts < cutoff].index\n",
        "application_df['APPLICATION_TYPE'] = application_df['APPLICATION_TYPE'].replace(to_replace, 'Other')\n"
      ],
      "metadata": {
        "id": "1EXpTN1mrG9U"
      },
      "execution_count": 67,
      "outputs": []
    },
    {
      "cell_type": "code",
      "source": [
        "# One-hot encode categorical variables\n",
        "application_df_encoded = pd.get_dummies(application_df)"
      ],
      "metadata": {
        "id": "TevVvonDsfSA"
      },
      "execution_count": 68,
      "outputs": []
    },
    {
      "cell_type": "code",
      "source": [
        "# Split the data\n",
        "y = application_df_encoded[\"IS_SUCCESSFUL\"].values\n",
        "X = application_df_encoded.drop(\"IS_SUCCESSFUL\", axis=1).values\n",
        "\n",
        "X_train, X_test, y_train, y_test = train_test_split(X, y, random_state=78)\n"
      ],
      "metadata": {
        "id": "IHj02wyUslKL"
      },
      "execution_count": 69,
      "outputs": []
    },
    {
      "cell_type": "code",
      "source": [
        "# Scale the data\n",
        "scaler = StandardScaler()\n",
        "X_train_scaled = scaler.fit_transform(X_train)\n",
        "X_test_scaled = scaler.transform(X_test)"
      ],
      "metadata": {
        "id": "Wqi8_i1KspUp"
      },
      "execution_count": 70,
      "outputs": []
    },
    {
      "cell_type": "code",
      "source": [
        "# Define the model\n",
        "model = Sequential()\n",
        "model.add(Dense(128, input_dim=X_train_scaled.shape[1]))\n",
        "model.add(LeakyReLU(alpha=0.01))\n",
        "model.add(Dense(64))\n",
        "model.add(LeakyReLU(alpha=0.01))\n",
        "model.add(Dense(32))\n",
        "model.add(LeakyReLU(alpha=0.01))\n",
        "model.add(Dense(1, activation='sigmoid'))"
      ],
      "metadata": {
        "id": "njdq1epAsscH"
      },
      "execution_count": 71,
      "outputs": []
    },
    {
      "cell_type": "code",
      "source": [
        "# Compile the model with a different learning rate\n",
        "model.compile(loss='binary_crossentropy', optimizer=Adam(learning_rate=0.001), metrics=['accuracy'])\n",
        "\n"
      ],
      "metadata": {
        "id": "CbWHGs0vsv7W"
      },
      "execution_count": 72,
      "outputs": []
    },
    {
      "cell_type": "code",
      "source": [
        "# Implement early stopping\n",
        "early_stopping = EarlyStopping(monitor='val_loss', patience=10)\n"
      ],
      "metadata": {
        "id": "ad1KBfKYszlX"
      },
      "execution_count": 73,
      "outputs": []
    },
    {
      "cell_type": "code",
      "source": [
        "# Train the model\n",
        "history = model.fit(X_train_scaled, y_train, epochs=100, batch_size=64, validation_data=(X_test_scaled, y_test), callbacks=[early_stopping])\n"
      ],
      "metadata": {
        "colab": {
          "base_uri": "https://localhost:8080/"
        },
        "id": "JlTWRUq2s4bw",
        "outputId": "067fb7f7-2422-4728-cb92-1d0dea4d9aaa"
      },
      "execution_count": 74,
      "outputs": [
        {
          "output_type": "stream",
          "name": "stdout",
          "text": [
            "Epoch 1/100\n",
            "402/402 [==============================] - 6s 11ms/step - loss: 0.5677 - accuracy: 0.7243 - val_loss: 0.5578 - val_accuracy: 0.7250\n",
            "Epoch 2/100\n",
            "402/402 [==============================] - 3s 6ms/step - loss: 0.5526 - accuracy: 0.7308 - val_loss: 0.5525 - val_accuracy: 0.7257\n",
            "Epoch 3/100\n",
            "402/402 [==============================] - 1s 3ms/step - loss: 0.5489 - accuracy: 0.7328 - val_loss: 0.5528 - val_accuracy: 0.7247\n",
            "Epoch 4/100\n",
            "402/402 [==============================] - 1s 3ms/step - loss: 0.5475 - accuracy: 0.7332 - val_loss: 0.5523 - val_accuracy: 0.7242\n",
            "Epoch 5/100\n",
            "402/402 [==============================] - 1s 3ms/step - loss: 0.5462 - accuracy: 0.7350 - val_loss: 0.5526 - val_accuracy: 0.7251\n",
            "Epoch 6/100\n",
            "402/402 [==============================] - 1s 3ms/step - loss: 0.5447 - accuracy: 0.7345 - val_loss: 0.5508 - val_accuracy: 0.7275\n",
            "Epoch 7/100\n",
            "402/402 [==============================] - 1s 3ms/step - loss: 0.5437 - accuracy: 0.7352 - val_loss: 0.5511 - val_accuracy: 0.7244\n",
            "Epoch 8/100\n",
            "402/402 [==============================] - 1s 3ms/step - loss: 0.5441 - accuracy: 0.7350 - val_loss: 0.5498 - val_accuracy: 0.7272\n",
            "Epoch 9/100\n",
            "402/402 [==============================] - 2s 5ms/step - loss: 0.5426 - accuracy: 0.7366 - val_loss: 0.5501 - val_accuracy: 0.7263\n",
            "Epoch 10/100\n",
            "402/402 [==============================] - 2s 4ms/step - loss: 0.5422 - accuracy: 0.7362 - val_loss: 0.5505 - val_accuracy: 0.7275\n",
            "Epoch 11/100\n",
            "402/402 [==============================] - 1s 3ms/step - loss: 0.5419 - accuracy: 0.7363 - val_loss: 0.5503 - val_accuracy: 0.7276\n",
            "Epoch 12/100\n",
            "402/402 [==============================] - 1s 3ms/step - loss: 0.5413 - accuracy: 0.7372 - val_loss: 0.5497 - val_accuracy: 0.7272\n",
            "Epoch 13/100\n",
            "402/402 [==============================] - 1s 3ms/step - loss: 0.5409 - accuracy: 0.7372 - val_loss: 0.5511 - val_accuracy: 0.7269\n",
            "Epoch 14/100\n",
            "402/402 [==============================] - 1s 3ms/step - loss: 0.5409 - accuracy: 0.7368 - val_loss: 0.5524 - val_accuracy: 0.7259\n",
            "Epoch 15/100\n",
            "402/402 [==============================] - 1s 3ms/step - loss: 0.5403 - accuracy: 0.7376 - val_loss: 0.5518 - val_accuracy: 0.7277\n",
            "Epoch 16/100\n",
            "402/402 [==============================] - 1s 3ms/step - loss: 0.5399 - accuracy: 0.7384 - val_loss: 0.5492 - val_accuracy: 0.7275\n",
            "Epoch 17/100\n",
            "402/402 [==============================] - 1s 3ms/step - loss: 0.5398 - accuracy: 0.7378 - val_loss: 0.5497 - val_accuracy: 0.7266\n",
            "Epoch 18/100\n",
            "402/402 [==============================] - 1s 3ms/step - loss: 0.5394 - accuracy: 0.7385 - val_loss: 0.5503 - val_accuracy: 0.7268\n",
            "Epoch 19/100\n",
            "402/402 [==============================] - 1s 3ms/step - loss: 0.5393 - accuracy: 0.7379 - val_loss: 0.5496 - val_accuracy: 0.7255\n",
            "Epoch 20/100\n",
            "402/402 [==============================] - 2s 4ms/step - loss: 0.5386 - accuracy: 0.7384 - val_loss: 0.5517 - val_accuracy: 0.7275\n",
            "Epoch 21/100\n",
            "402/402 [==============================] - 2s 4ms/step - loss: 0.5387 - accuracy: 0.7393 - val_loss: 0.5516 - val_accuracy: 0.7230\n",
            "Epoch 22/100\n",
            "402/402 [==============================] - 1s 3ms/step - loss: 0.5381 - accuracy: 0.7384 - val_loss: 0.5509 - val_accuracy: 0.7263\n",
            "Epoch 23/100\n",
            "402/402 [==============================] - 1s 3ms/step - loss: 0.5380 - accuracy: 0.7394 - val_loss: 0.5501 - val_accuracy: 0.7264\n",
            "Epoch 24/100\n",
            "402/402 [==============================] - 1s 3ms/step - loss: 0.5375 - accuracy: 0.7384 - val_loss: 0.5509 - val_accuracy: 0.7270\n",
            "Epoch 25/100\n",
            "402/402 [==============================] - 1s 3ms/step - loss: 0.5375 - accuracy: 0.7389 - val_loss: 0.5506 - val_accuracy: 0.7271\n",
            "Epoch 26/100\n",
            "402/402 [==============================] - 1s 3ms/step - loss: 0.5376 - accuracy: 0.7388 - val_loss: 0.5503 - val_accuracy: 0.7258\n"
          ]
        }
      ]
    },
    {
      "cell_type": "code",
      "source": [
        "# Evaluate the model\n",
        "model_loss, model_accuracy = model.evaluate(X_test_scaled, y_test, verbose=2)\n",
        "print(f\"Loss: {model_loss}, Accuracy: {model_accuracy}\")"
      ],
      "metadata": {
        "colab": {
          "base_uri": "https://localhost:8080/"
        },
        "id": "shXaN6zutMJW",
        "outputId": "c6add6d5-17d3-43c0-ef55-fa370f0b9e71"
      },
      "execution_count": 75,
      "outputs": [
        {
          "output_type": "stream",
          "name": "stdout",
          "text": [
            "268/268 - 1s - loss: 0.5503 - accuracy: 0.7258 - 1s/epoch - 4ms/step\n",
            "Loss: 0.5503159761428833, Accuracy: 0.7258309125900269\n"
          ]
        }
      ]
    },
    {
      "cell_type": "markdown",
      "source": [
        "# **Let's Redefine Model**"
      ],
      "metadata": {
        "id": "bph7WA3ztnyn"
      }
    },
    {
      "cell_type": "code",
      "source": [
        "import pandas as pd\n",
        "import numpy as np\n",
        "from sklearn.model_selection import train_test_split\n",
        "from sklearn.preprocessing import StandardScaler\n",
        "from tensorflow.keras.models import Sequential\n",
        "from tensorflow.keras.layers import Dense, LeakyReLU, Dropout\n",
        "from tensorflow.keras.callbacks import EarlyStopping\n",
        "from tensorflow.keras.optimizers import Adam\n",
        "from sklearn.ensemble import RandomForestClassifier\n",
        "from imblearn.over_sampling import SMOTE\n",
        "from sklearn.model_selection import GridSearchCV\n",
        "\n"
      ],
      "metadata": {
        "id": "NVbV3p7gtj6V"
      },
      "execution_count": 81,
      "outputs": []
    },
    {
      "cell_type": "code",
      "source": [
        "# Binning rare occurrences\n",
        "cutoff = 200\n",
        "column_counts = application_df['APPLICATION_TYPE'].value_counts()\n",
        "to_replace = column_counts[column_counts < cutoff].index\n",
        "application_df['APPLICATION_TYPE'] = application_df['APPLICATION_TYPE'].replace(to_replace, 'Other')\n",
        "\n"
      ],
      "metadata": {
        "id": "IWnrGxoytzGr"
      },
      "execution_count": 82,
      "outputs": []
    },
    {
      "cell_type": "code",
      "source": [
        "# One-hot encode categorical variables\n",
        "application_df_encoded = pd.get_dummies(application_df)"
      ],
      "metadata": {
        "id": "ojxQJcqeuucH"
      },
      "execution_count": 83,
      "outputs": []
    },
    {
      "cell_type": "code",
      "source": [
        "# Split the data\n",
        "y = application_df_encoded[\"IS_SUCCESSFUL\"].values\n",
        "X = application_df_encoded.drop(\"IS_SUCCESSFUL\", axis=1).values\n",
        "\n",
        "X_train, X_test, y_train, y_test = train_test_split(X, y, random_state=78)\n",
        "\n"
      ],
      "metadata": {
        "id": "nKhKhPfkuxJC"
      },
      "execution_count": 84,
      "outputs": []
    },
    {
      "cell_type": "code",
      "source": [
        "# Scale the data\n",
        "scaler = StandardScaler()\n",
        "X_train_scaled = scaler.fit_transform(X_train)\n",
        "X_test_scaled = scaler.transform(X_test)"
      ],
      "metadata": {
        "id": "8oX9x4sEu0-z"
      },
      "execution_count": 85,
      "outputs": []
    },
    {
      "cell_type": "code",
      "source": [
        "# Oversample the minority class using SMOTE\n",
        "smote = SMOTE(random_state=42)\n",
        "X_train_resampled, y_train_resampled = smote.fit_resample(X_train_scaled, y_train)\n",
        "\n"
      ],
      "metadata": {
        "id": "5CSmOndnu3kv"
      },
      "execution_count": 86,
      "outputs": []
    },
    {
      "cell_type": "code",
      "source": [
        "# Feature importance\n",
        "importances = RandomForestClassifier().fit(X_train_resampled, y_train_resampled).feature_importances_\n",
        "indices = np.argsort(importances)[::-1]\n",
        "top_indices = indices[:20]"
      ],
      "metadata": {
        "id": "4PD9q55cu8IE"
      },
      "execution_count": 87,
      "outputs": []
    },
    {
      "cell_type": "code",
      "source": [
        "X_train_resampled = X_train_resampled[:, top_indices]\n",
        "X_test_scaled = X_test_scaled[:, top_indices]"
      ],
      "metadata": {
        "id": "u4RJTteuvBF4"
      },
      "execution_count": 88,
      "outputs": []
    },
    {
      "cell_type": "code",
      "source": [
        "# Define the model\n",
        "model = Sequential()\n",
        "model.add(Dense(128, input_dim=X_train_resampled.shape[1], activation='relu'))\n",
        "model.add(Dropout(0.2))\n",
        "model.add(Dense(64, activation='relu'))\n",
        "model.add(Dropout(0.2))\n",
        "model.add(Dense(32, activation='relu'))\n",
        "model.add(Dropout(0.2))\n",
        "model.add(Dense(1, activation='sigmoid'))"
      ],
      "metadata": {
        "id": "cdj3cvmVvEAP"
      },
      "execution_count": 89,
      "outputs": []
    },
    {
      "cell_type": "code",
      "source": [
        "# Compile the model\n",
        "model.compile(loss='binary_crossentropy', optimizer=Adam(learning_rate=0.001), metrics=['accuracy'])\n"
      ],
      "metadata": {
        "id": "4B9RqmWlvHAM"
      },
      "execution_count": 90,
      "outputs": []
    },
    {
      "cell_type": "code",
      "source": [
        "# Implement early stopping\n",
        "early_stopping = EarlyStopping(monitor='val_loss', patience=10)\n"
      ],
      "metadata": {
        "id": "RxHO9-F8vKx3"
      },
      "execution_count": 91,
      "outputs": []
    },
    {
      "cell_type": "code",
      "source": [
        "# Train the model\n",
        "history = model.fit(X_train_resampled, y_train_resampled, epochs=100, batch_size=64, validation_data=(X_test_scaled, y_test), callbacks=[early_stopping])\n"
      ],
      "metadata": {
        "colab": {
          "base_uri": "https://localhost:8080/"
        },
        "id": "eEpLNZw9vNqK",
        "outputId": "d6b0bdcc-e194-4a78-97a8-19688bc46b74"
      },
      "execution_count": 92,
      "outputs": [
        {
          "output_type": "stream",
          "name": "stdout",
          "text": [
            "Epoch 1/100\n",
            "428/428 [==============================] - 3s 4ms/step - loss: 0.5891 - accuracy: 0.7082 - val_loss: 0.5696 - val_accuracy: 0.7210\n",
            "Epoch 2/100\n",
            "428/428 [==============================] - 1s 3ms/step - loss: 0.5735 - accuracy: 0.7178 - val_loss: 0.5662 - val_accuracy: 0.7194\n",
            "Epoch 3/100\n",
            "428/428 [==============================] - 2s 4ms/step - loss: 0.5695 - accuracy: 0.7200 - val_loss: 0.5626 - val_accuracy: 0.7220\n",
            "Epoch 4/100\n",
            "428/428 [==============================] - 2s 5ms/step - loss: 0.5658 - accuracy: 0.7226 - val_loss: 0.5596 - val_accuracy: 0.7213\n",
            "Epoch 5/100\n",
            "428/428 [==============================] - 1s 3ms/step - loss: 0.5661 - accuracy: 0.7230 - val_loss: 0.5619 - val_accuracy: 0.7214\n",
            "Epoch 6/100\n",
            "428/428 [==============================] - 1s 3ms/step - loss: 0.5626 - accuracy: 0.7240 - val_loss: 0.5576 - val_accuracy: 0.7216\n",
            "Epoch 7/100\n",
            "428/428 [==============================] - 1s 3ms/step - loss: 0.5622 - accuracy: 0.7235 - val_loss: 0.5584 - val_accuracy: 0.7229\n",
            "Epoch 8/100\n",
            "428/428 [==============================] - 1s 3ms/step - loss: 0.5608 - accuracy: 0.7237 - val_loss: 0.5570 - val_accuracy: 0.7221\n",
            "Epoch 9/100\n",
            "428/428 [==============================] - 2s 4ms/step - loss: 0.5606 - accuracy: 0.7245 - val_loss: 0.5600 - val_accuracy: 0.7233\n",
            "Epoch 10/100\n",
            "428/428 [==============================] - 1s 3ms/step - loss: 0.5603 - accuracy: 0.7245 - val_loss: 0.5582 - val_accuracy: 0.7230\n",
            "Epoch 11/100\n",
            "428/428 [==============================] - 1s 3ms/step - loss: 0.5596 - accuracy: 0.7254 - val_loss: 0.5565 - val_accuracy: 0.7234\n",
            "Epoch 12/100\n",
            "428/428 [==============================] - 2s 4ms/step - loss: 0.5589 - accuracy: 0.7261 - val_loss: 0.5619 - val_accuracy: 0.7226\n",
            "Epoch 13/100\n",
            "428/428 [==============================] - 2s 6ms/step - loss: 0.5582 - accuracy: 0.7247 - val_loss: 0.5548 - val_accuracy: 0.7231\n",
            "Epoch 14/100\n",
            "428/428 [==============================] - 2s 5ms/step - loss: 0.5589 - accuracy: 0.7258 - val_loss: 0.5564 - val_accuracy: 0.7236\n",
            "Epoch 15/100\n",
            "428/428 [==============================] - 2s 5ms/step - loss: 0.5571 - accuracy: 0.7263 - val_loss: 0.5536 - val_accuracy: 0.7264\n",
            "Epoch 16/100\n",
            "428/428 [==============================] - 1s 3ms/step - loss: 0.5569 - accuracy: 0.7261 - val_loss: 0.5569 - val_accuracy: 0.7229\n",
            "Epoch 17/100\n",
            "428/428 [==============================] - 1s 3ms/step - loss: 0.5567 - accuracy: 0.7270 - val_loss: 0.5585 - val_accuracy: 0.7252\n",
            "Epoch 18/100\n",
            "428/428 [==============================] - 1s 3ms/step - loss: 0.5566 - accuracy: 0.7275 - val_loss: 0.5572 - val_accuracy: 0.7243\n",
            "Epoch 19/100\n",
            "428/428 [==============================] - 1s 3ms/step - loss: 0.5554 - accuracy: 0.7272 - val_loss: 0.5556 - val_accuracy: 0.7241\n",
            "Epoch 20/100\n",
            "428/428 [==============================] - 2s 5ms/step - loss: 0.5566 - accuracy: 0.7258 - val_loss: 0.5547 - val_accuracy: 0.7271\n",
            "Epoch 21/100\n",
            "428/428 [==============================] - 2s 5ms/step - loss: 0.5551 - accuracy: 0.7259 - val_loss: 0.5586 - val_accuracy: 0.7278\n",
            "Epoch 22/100\n",
            "428/428 [==============================] - 1s 3ms/step - loss: 0.5561 - accuracy: 0.7281 - val_loss: 0.5551 - val_accuracy: 0.7243\n",
            "Epoch 23/100\n",
            "428/428 [==============================] - 1s 3ms/step - loss: 0.5566 - accuracy: 0.7272 - val_loss: 0.5578 - val_accuracy: 0.7240\n",
            "Epoch 24/100\n",
            "428/428 [==============================] - 1s 3ms/step - loss: 0.5549 - accuracy: 0.7275 - val_loss: 0.5557 - val_accuracy: 0.7240\n",
            "Epoch 25/100\n",
            "428/428 [==============================] - 1s 3ms/step - loss: 0.5565 - accuracy: 0.7270 - val_loss: 0.5556 - val_accuracy: 0.7235\n"
          ]
        }
      ]
    },
    {
      "cell_type": "code",
      "source": [
        "# Evaluate the model\n",
        "model_loss, model_accuracy = model.evaluate(X_test_scaled, y_test, verbose=2)\n",
        "print(f\"Loss: {model_loss}, Accuracy: {model_accuracy}\")"
      ],
      "metadata": {
        "colab": {
          "base_uri": "https://localhost:8080/"
        },
        "id": "Yh5M6oqCvgqk",
        "outputId": "59f5d7ad-6209-4c82-e989-2da805649a7b"
      },
      "execution_count": 93,
      "outputs": [
        {
          "output_type": "stream",
          "name": "stdout",
          "text": [
            "268/268 - 1s - loss: 0.5556 - accuracy: 0.7235 - 1s/epoch - 5ms/step\n",
            "Loss: 0.5555724501609802, Accuracy: 0.723498523235321\n"
          ]
        }
      ]
    },
    {
      "cell_type": "code",
      "source": [
        "# Save the model\n",
        "model.save('AlphabetSoupCharity.h5')"
      ],
      "metadata": {
        "colab": {
          "base_uri": "https://localhost:8080/"
        },
        "id": "CWwhobw2vian",
        "outputId": "773668da-6ca1-4388-e5ed-39a188e37a8a"
      },
      "execution_count": 95,
      "outputs": [
        {
          "output_type": "stream",
          "name": "stderr",
          "text": [
            "/usr/local/lib/python3.10/dist-packages/keras/src/engine/training.py:3103: UserWarning: You are saving your model as an HDF5 file via `model.save()`. This file format is considered legacy. We recommend using instead the native Keras format, e.g. `model.save('my_model.keras')`.\n",
            "  saving_api.save_model(\n"
          ]
        }
      ]
    }
  ],
  "metadata": {
    "kernelspec": {
      "display_name": "Python 3",
      "language": "python",
      "name": "python3"
    },
    "language_info": {
      "codemirror_mode": {
        "name": "ipython",
        "version": 3
      },
      "file_extension": ".py",
      "mimetype": "text/x-python",
      "name": "python",
      "nbconvert_exporter": "python",
      "pygments_lexer": "ipython3",
      "version": "3.-1.-1"
    },
    "vscode": {
      "interpreter": {
        "hash": "31f2aee4e71d21fbe5cf8b01ff0e069b9275f58929596ceb00d14d90e3e16cd6"
      }
    },
    "colab": {
      "provenance": []
    }
  },
  "nbformat": 4,
  "nbformat_minor": 0
}